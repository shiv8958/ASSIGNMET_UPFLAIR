{
 "cells": [
  {
   "cell_type": "code",
   "execution_count": 24,
   "metadata": {},
   "outputs": [
    {
     "name": "stdout",
     "output_type": "stream",
     "text": [
      "[6, 12, 18]\n"
     ]
    }
   ],
   "source": [
    "# List intersectin\n",
    "new=[]\n",
    "def list_intersection():\n",
    "    for i in lst1:\n",
    "        for j in lst2:\n",
    "            if i==j:\n",
    "                new.append(i)\n",
    "    print(new)            \n",
    "lst1=[2,4,6,8,10,12,14,16,18,20]\n",
    "lst2=[3,6,9,12,15,18,21,24,27,30]\n",
    "list_intersection()"
   ]
  },
  {
   "cell_type": "code",
   "execution_count": 62,
   "metadata": {},
   "outputs": [
    {
     "name": "stdout",
     "output_type": "stream",
     "text": [
      "[0, 1, 2, 3, 4, 5, 6, 7, 8, 9]\n"
     ]
    }
   ],
   "source": [
    "# Merge of two list\n",
    "merge=[]\n",
    "def merge_list():\n",
    "    for i in ls1+ls2:\n",
    "        if i not in merge:\n",
    "            merge.append(i)\n",
    "    print(merge)                    \n",
    "\n",
    "ls1=[0,1,2,3,4,5]\n",
    "ls2=[4,5,6,7,8,9]\n",
    "\n",
    "merge_list()\n"
   ]
  },
  {
   "cell_type": "code",
   "execution_count": null,
   "metadata": {},
   "outputs": [],
   "source": []
  }
 ],
 "metadata": {
  "kernelspec": {
   "display_name": "Python 3",
   "language": "python",
   "name": "python3"
  },
  "language_info": {
   "codemirror_mode": {
    "name": "ipython",
    "version": 3
   },
   "file_extension": ".py",
   "mimetype": "text/x-python",
   "name": "python",
   "nbconvert_exporter": "python",
   "pygments_lexer": "ipython3",
   "version": "3.12.3"
  }
 },
 "nbformat": 4,
 "nbformat_minor": 2
}

{
 "cells": [
  {
   "cell_type": "code",
   "execution_count": 15,
   "metadata": {},
   "outputs": [
    {
     "name": "stdout",
     "output_type": "stream",
     "text": [
      "Average of even no is:  52.0\n",
      "Number of even numbers:  5\n",
      "Average of odd numbers is:  37.666666666666664\n",
      "Number of odd numbers is:  9\n"
     ]
    }
   ],
   "source": [
    "ls=[25,41,85,96,35,64,75,9,12,21,32,23,25,56]\n",
    "sum=0\n",
    "p=0\n",
    "for i in ls:\n",
    "    if i%2==0:\n",
    "        sum=sum+i\n",
    "        p+=1\n",
    "print(\"Average of even no is: \",sum/p)\n",
    "print(\"Number of even numbers: \",p) \n",
    "s=0\n",
    "q=0 \n",
    "for j in ls:\n",
    "    if j%2!=0:\n",
    "        s=s+j\n",
    "        q+=1\n",
    "print(\"Average of odd numbers is: \",s/q)\n",
    "print(\"Number of odd numbers is: \",q)        \n"
   ]
  },
  {
   "cell_type": "code",
   "execution_count": 16,
   "metadata": {},
   "outputs": [
    {
     "name": "stdout",
     "output_type": "stream",
     "text": [
      "Elemnt 23 found at index 3\n"
     ]
    }
   ],
   "source": [
    "# Linear Search\n",
    "p=-1\n",
    "def search():\n",
    "    global p\n",
    "    for i in lst:\n",
    "        p+=1\n",
    "        if i==n:\n",
    "            return True\n",
    "    return False   \n",
    "lst = [9, 12, 21, 23, 25, 32, 35, 41, 56, 64, 75, 85, 96]\n",
    "n=23\n",
    "if search():\n",
    "    print(f\"Elemnt {n} found at index {p}\")\n",
    "else:\n",
    "    print(f\"Elemnet {n} not in the list\")       \n",
    "\n"
   ]
  },
  {
   "cell_type": "code",
   "execution_count": 17,
   "metadata": {},
   "outputs": [
    {
     "name": "stdout",
     "output_type": "stream",
     "text": [
      "Element 23 found at index 3\n"
     ]
    }
   ],
   "source": [
    "# binary search\n",
    "def binary_search(lst, n):\n",
    "    low = 0\n",
    "    high = len(lst) - 1\n",
    "    while low <= high:\n",
    "        mid = (low + high) // 2\n",
    "        if lst[mid] == n:\n",
    "            return mid\n",
    "        elif lst[mid] < n:\n",
    "            low = mid + 1\n",
    "        else:\n",
    "            high = mid - 1\n",
    "    return -1\n",
    "\n",
    "lst = [9, 12, 21, 23, 25, 32, 35, 41, 56, 64, 75, 85, 96]  \n",
    "n = 23\n",
    "\n",
    "result = binary_search(lst, n)\n",
    "\n",
    "if result != -1:\n",
    "    print(f\"Element {n} found at index {result}\")\n",
    "else:\n",
    "    print(f\"Element {n} not in the list\")\n"
   ]
  },
  {
   "cell_type": "code",
   "execution_count": 1,
   "metadata": {},
   "outputs": [
    {
     "name": "stdout",
     "output_type": "stream",
     "text": [
      "[625, 1681, 7225, 9216, 1225, 4096, 5625, 81, 144, 441, 1024, 529, 625, 3136]\n",
      "Even numbers are:  [96, 64, 12, 32, 56]\n"
     ]
    }
   ],
   "source": [
    "ar = [25,41,85,96,35,64,75,9,12,21,32,23,25,56]\n",
    "square = [x**2 for x in ar]\n",
    "print(square)\n",
    "even = [y for y in ar if y%2==0]\n",
    "print(\"Even numbers are: \",even)"
   ]
  },
  {
   "cell_type": "code",
   "execution_count": null,
   "metadata": {},
   "outputs": [],
   "source": []
  }
 ],
 "metadata": {
  "kernelspec": {
   "display_name": "Python 3",
   "language": "python",
   "name": "python3"
  },
  "language_info": {
   "codemirror_mode": {
    "name": "ipython",
    "version": 3
   },
   "file_extension": ".py",
   "mimetype": "text/x-python",
   "name": "python",
   "nbconvert_exporter": "python",
   "pygments_lexer": "ipython3",
   "version": "3.12.3"
  }
 },
 "nbformat": 4,
 "nbformat_minor": 2
}

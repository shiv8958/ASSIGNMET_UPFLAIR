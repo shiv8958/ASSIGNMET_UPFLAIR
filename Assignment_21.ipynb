{
 "cells": [
  {
   "cell_type": "code",
   "execution_count": 17,
   "metadata": {},
   "outputs": [
    {
     "name": "stdout",
     "output_type": "stream",
     "text": [
      "Ram\n",
      "Laxman is brother of Ram\n",
      "Sita is wife of Ram\n"
     ]
    }
   ],
   "source": [
    "# Multilevel\n",
    "class B1:\n",
    "    def r(self):\n",
    "        print('Ram')\n",
    "class B2(B1):        \n",
    "    def l(self):\n",
    "        print('Laxman is brother of Ram')\n",
    "class W(B2):    \n",
    "    def s(self):\n",
    "        print('Sita is wife of Ram')\n",
    "\n",
    "a=W()\n",
    "a.r()\n",
    "a.l()\n",
    "a.s()\n"
   ]
  },
  {
   "cell_type": "code",
   "execution_count": 25,
   "metadata": {},
   "outputs": [
    {
     "name": "stdout",
     "output_type": "stream",
     "text": [
      "Dog\n",
      "Human\n",
      "Cat\n",
      "Both are working\n"
     ]
    }
   ],
   "source": [
    "# Multiple\n",
    "class Animal:\n",
    "    def M1(self,name):\n",
    "        self.name=name\n",
    "        print(name)\n",
    "class Human:\n",
    "    def M2(self):\n",
    "        print('Human')   \n",
    "class both(Animal,Human):\n",
    "    def M3(self):\n",
    "        super().M1(\"Cat\")\n",
    "        print('Both are working')\n",
    "\n",
    "a=both()\n",
    "a.M1(\"Dog\")\n",
    "a.M2()\n",
    "a.M3()                     "
   ]
  },
  {
   "cell_type": "code",
   "execution_count": 26,
   "metadata": {},
   "outputs": [],
   "source": [
    "from sklearn.metrics import confusion_matrix"
   ]
  },
  {
   "cell_type": "code",
   "execution_count": null,
   "metadata": {},
   "outputs": [],
   "source": [
    "def "
   ]
  }
 ],
 "metadata": {
  "kernelspec": {
   "display_name": "Python 3",
   "language": "python",
   "name": "python3"
  },
  "language_info": {
   "codemirror_mode": {
    "name": "ipython",
    "version": 3
   },
   "file_extension": ".py",
   "mimetype": "text/x-python",
   "name": "python",
   "nbconvert_exporter": "python",
   "pygments_lexer": "ipython3",
   "version": "3.12.3"
  }
 },
 "nbformat": 4,
 "nbformat_minor": 2
}
